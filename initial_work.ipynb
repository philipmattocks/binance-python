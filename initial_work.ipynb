{
 "cells": [
  {
   "cell_type": "markdown",
   "id": "chemical-cedar",
   "metadata": {},
   "source": [
    "Notes from https://algotrading101.com/learn/binance-python-api-guide/"
   ]
  },
  {
   "cell_type": "code",
   "execution_count": 2,
   "id": "independent-mauritius",
   "metadata": {},
   "outputs": [],
   "source": [
    "from binance import Client, ThreadedWebsocketManager, ThreadedDepthCacheManager\n",
    "import os\n",
    "api_key = os.environ.get('binance_api')\n",
    "api_secret = os.environ.get('binance_secret')\n",
    "\n",
    "client = Client(api_key, api_secret)\n",
    "#Set the following for test only:\n",
    "#client.API_URL = 'https://testnet.binance.vision/api'\n",
    "#client.get_account()"
   ]
  },
  {
   "cell_type": "code",
   "execution_count": 6,
   "id": "caroline-display",
   "metadata": {},
   "outputs": [
    {
     "name": "stdout",
     "output_type": "stream",
     "text": [
      "{'symbol': 'BTCUSDT', 'price': '17076.15000000'}\n"
     ]
    }
   ],
   "source": [
    "# get latest price from Binance API\n",
    "btc_price = client.get_symbol_ticker(symbol=\"BTCUSDT\")\n",
    "# print full output (dictionary)\n",
    "print(btc_price)"
   ]
  },
  {
   "cell_type": "code",
   "execution_count": 3,
   "id": "creative-vienna",
   "metadata": {},
   "outputs": [],
   "source": [
    "from time import sleep\n",
    "\n",
    "from binance import ThreadedWebsocketManager\n",
    "btc_price = {'error':False}"
   ]
  },
  {
   "cell_type": "code",
   "execution_count": 7,
   "id": "collective-worth",
   "metadata": {},
   "outputs": [],
   "source": [
    "def btc_trade_history(msg):\n",
    "    ''' define how to process incoming WebSocket messages '''\n",
    "    if msg['e'] != 'error':\n",
    "        print(msg['c'])\n",
    "        btc_price['last'] = msg['c']\n",
    "        btc_price['bid'] = msg['b']\n",
    "        btc_price['last'] = msg['a']\n",
    "        btc_price['error'] = False\n",
    "    else:\n",
    "        btc_price['error'] = True"
   ]
  },
  {
   "cell_type": "code",
   "execution_count": 8,
   "id": "specialized-production",
   "metadata": {},
   "outputs": [
    {
     "data": {
      "text/plain": [
       "'btcusdt@ticker'"
      ]
     },
     "execution_count": 8,
     "metadata": {},
     "output_type": "execute_result"
    },
    {
     "name": "stdout",
     "output_type": "stream",
     "text": [
      "17060.76000000\n",
      "17061.16000000\n",
      "17063.35000000\n",
      "17063.59000000\n",
      "17064.04000000\n",
      "17065.45000000\n",
      "17067.25000000\n",
      "17066.67000000\n"
     ]
    }
   ],
   "source": [
    "# init and start the WebSocket\n",
    "bsm = ThreadedWebsocketManager()\n",
    "bsm.start()\n",
    "# subscribe to a stream\n",
    "bsm.start_symbol_ticker_socket(callback=btc_trade_history, symbol='BTCUSDT')\n"
   ]
  },
  {
   "cell_type": "code",
   "execution_count": 9,
   "id": "preceding-fortune",
   "metadata": {},
   "outputs": [
    {
     "name": "stdout",
     "output_type": "stream",
     "text": [
      "17065.34000000\n"
     ]
    }
   ],
   "source": [
    "bsm.stop()"
   ]
  },
  {
   "cell_type": "code",
   "execution_count": 7,
   "id": "quarterly-tomorrow",
   "metadata": {},
   "outputs": [
    {
     "name": "stdout",
     "output_type": "stream",
     "text": [
      "1502928000000\n"
     ]
    }
   ],
   "source": [
    "# valid intervals - 1m, 3m, 5m, 15m, 30m, 1h, 2h, 4h, 6h, 8h, 12h, 1d, 3d, 1w, 1M\n",
    "\n",
    "# get timestamp of earliest date data is available\n",
    "timestamp = client._get_earliest_valid_timestamp('BTCUSDT', '1d')\n",
    "print(timestamp)"
   ]
  },
  {
   "cell_type": "code",
   "execution_count": 1,
   "id": "through-community",
   "metadata": {},
   "outputs": [
    {
     "ename": "NameError",
     "evalue": "name 'client' is not defined",
     "output_type": "error",
     "traceback": [
      "\u001b[0;31m---------------------------------------------------------------------------\u001b[0m",
      "\u001b[0;31mNameError\u001b[0m                                 Traceback (most recent call last)",
      "\u001b[0;32m/var/folders/t4/r0vgqmtn78bc0s08h8kvt45h0000gn/T/ipykernel_91437/3006772740.py\u001b[0m in \u001b[0;36m<module>\u001b[0;34m\u001b[0m\n\u001b[1;32m      1\u001b[0m \u001b[0;31m# request historical candle (or klines) data\u001b[0m\u001b[0;34m\u001b[0m\u001b[0;34m\u001b[0m\u001b[0;34m\u001b[0m\u001b[0m\n\u001b[0;32m----> 2\u001b[0;31m \u001b[0mbars\u001b[0m \u001b[0;34m=\u001b[0m \u001b[0mclient\u001b[0m\u001b[0;34m.\u001b[0m\u001b[0mget_historical_klines\u001b[0m\u001b[0;34m(\u001b[0m\u001b[0;34m'BTCUSDT'\u001b[0m\u001b[0;34m,\u001b[0m \u001b[0;34m'1d'\u001b[0m\u001b[0;34m,\u001b[0m \u001b[0mtimestamp\u001b[0m\u001b[0;34m,\u001b[0m \u001b[0mlimit\u001b[0m\u001b[0;34m=\u001b[0m\u001b[0;36m1000\u001b[0m\u001b[0;34m)\u001b[0m\u001b[0;34m\u001b[0m\u001b[0;34m\u001b[0m\u001b[0m\n\u001b[0m\u001b[1;32m      3\u001b[0m \u001b[0;31m# delete unwanted data - just keep date, open, high, low, close\u001b[0m\u001b[0;34m\u001b[0m\u001b[0;34m\u001b[0m\u001b[0;34m\u001b[0m\u001b[0m\n",
      "\u001b[0;31mNameError\u001b[0m: name 'client' is not defined"
     ]
    }
   ],
   "source": [
    "# request historical candle (or klines) data\n",
    "bars = client.get_historical_klines('BTCUSDT', '1d', timestamp, limit=1000)\n",
    "# delete unwanted data - just keep date, open, high, low, close\n",
    "for line in bars:\n",
    "    del line[5:]"
   ]
  },
  {
   "cell_type": "code",
   "execution_count": null,
   "id": "surprised-basis",
   "metadata": {},
   "outputs": [],
   "source": []
  },
  {
   "cell_type": "code",
   "execution_count": 9,
   "id": "embedded-moisture",
   "metadata": {},
   "outputs": [
    {
     "name": "stdout",
     "output_type": "stream",
     "text": [
      "                        open           high            low          close\n",
      "date                                                                     \n",
      "1502928000000  4261.48000000  4485.39000000  4200.74000000  4285.08000000\n",
      "1503014400000  4285.08000000  4371.52000000  3938.77000000  4108.37000000\n",
      "1503100800000  4108.37000000  4184.69000000  3850.00000000  4139.98000000\n",
      "1503187200000  4120.98000000  4211.08000000  4032.62000000  4086.29000000\n",
      "1503273600000  4069.13000000  4119.62000000  3911.79000000  4016.00000000\n"
     ]
    },
    {
     "name": "stderr",
     "output_type": "stream",
     "text": [
      "/Users/philipmattocks/binance-python-work/binance-venv/lib/python3.9/site-packages/pandas/compat/__init__.py:124: UserWarning: Could not import the lzma module. Your installed Python is incomplete. Attempting to use lzma compression will result in a RuntimeError.\n",
      "  warnings.warn(msg)\n"
     ]
    }
   ],
   "source": [
    "import pandas as pd\n",
    "btc_df = pd.DataFrame(bars, columns=['date', 'open', 'high', 'low', 'close'])\n",
    "btc_df.set_index('date', inplace=True)\n",
    "print(btc_df.head())\n",
    "btc_df.to_csv('btc_bars3.csv')"
   ]
  },
  {
   "cell_type": "markdown",
   "id": "arbitrary-mongolia",
   "metadata": {},
   "source": [
    "see https://data.binance.vision/ for more market data"
   ]
  }
 ],
 "metadata": {
  "kernelspec": {
   "display_name": "Python 3 (ipykernel)",
   "language": "python",
   "name": "python3"
  },
  "language_info": {
   "codemirror_mode": {
    "name": "ipython",
    "version": 3
   },
   "file_extension": ".py",
   "mimetype": "text/x-python",
   "name": "python",
   "nbconvert_exporter": "python",
   "pygments_lexer": "ipython3",
   "version": "3.9.2"
  }
 },
 "nbformat": 4,
 "nbformat_minor": 5
}
